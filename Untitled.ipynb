{
 "cells": [
  {
   "cell_type": "code",
   "execution_count": 4,
   "id": "impressive-paintball",
   "metadata": {},
   "outputs": [],
   "source": [
    "%matplotlib inline\n",
    "import matplotlib.pyplot as plt"
   ]
  },
  {
   "cell_type": "code",
   "execution_count": 1,
   "id": "outside-eugene",
   "metadata": {},
   "outputs": [],
   "source": [
    "import numba\n",
    "import numpy as np\n",
    "import invsqrtc as c"
   ]
  },
  {
   "cell_type": "code",
   "execution_count": 56,
   "id": "brief-gentleman",
   "metadata": {},
   "outputs": [],
   "source": [
    "@numba.njit(cache=True)\n",
    "def numbafied(x):    \n",
    "    return 1./np.sqrt(x)\n",
    "    "
   ]
  },
  {
   "cell_type": "code",
   "execution_count": 53,
   "id": "wound-content",
   "metadata": {},
   "outputs": [],
   "source": [
    "n = 0.000001"
   ]
  },
  {
   "cell_type": "code",
   "execution_count": 54,
   "id": "fiscal-breathing",
   "metadata": {},
   "outputs": [
    {
     "name": "stdout",
     "output_type": "stream",
     "text": [
      "485 ns ± 7.18 ns per loop (mean ± std. dev. of 7 runs, 1000000 loops each)\n"
     ]
    }
   ],
   "source": [
    "%timeit 1./np.sqrt(n)"
   ]
  },
  {
   "cell_type": "code",
   "execution_count": 57,
   "id": "dutch-tooth",
   "metadata": {},
   "outputs": [
    {
     "name": "stdout",
     "output_type": "stream",
     "text": [
      "125 ns ± 0.978 ns per loop (mean ± std. dev. of 7 runs, 10000000 loops each)\n"
     ]
    }
   ],
   "source": [
    "%timeit numbafied(n)"
   ]
  },
  {
   "cell_type": "code",
   "execution_count": 58,
   "id": "pharmaceutical-western",
   "metadata": {},
   "outputs": [
    {
     "name": "stdout",
     "output_type": "stream",
     "text": [
      "103 ns ± 1.48 ns per loop (mean ± std. dev. of 7 runs, 10000000 loops each)\n"
     ]
    }
   ],
   "source": [
    "%timeit c.invsqrt(n)"
   ]
  },
  {
   "cell_type": "code",
   "execution_count": 20,
   "id": "horizontal-output",
   "metadata": {},
   "outputs": [],
   "source": [
    "tvec = np.array([102, 140, 491])\n",
    "evec = np.array([1.51, 0.683, 1.47])"
   ]
  },
  {
   "cell_type": "code",
   "execution_count": 83,
   "id": "surgical-repeat",
   "metadata": {},
   "outputs": [
    {
     "data": {
      "text/plain": [
       "3.766990291262135"
      ]
     },
     "execution_count": 83,
     "metadata": {},
     "output_type": "execute_result"
    }
   ],
   "source": [
    "100/(100 - (100 - 100*103/491))-1"
   ]
  },
  {
   "cell_type": "code",
   "execution_count": 82,
   "id": "inside-nation",
   "metadata": {},
   "outputs": [
    {
     "data": {
      "text/plain": [
       "0.35922330097087385"
      ]
     },
     "execution_count": 82,
     "metadata": {},
     "output_type": "execute_result"
    }
   ],
   "source": [
    "100/(100 - (100 - 100*103/140))-1"
   ]
  },
  {
   "cell_type": "code",
   "execution_count": 84,
   "id": "subjective-technique",
   "metadata": {},
   "outputs": [
    {
     "data": {
      "image/png": "[encoded data removed]",
      "text/plain": [
       "<Figure size 432x288 with 1 Axes>"
      ]
     },
     "metadata": {
      "needs_background": "light"
     },
     "output_type": "display_data"
    }
   ],
   "source": [
    "fig, ax = plt.subplots()\n",
    "ax.bar(np.arange(3), tvec)\n",
    "ax.set_xticks(np.arange(3))\n",
    "ax.set_xticklabels(['pyinvsqrt', 'Numpy+Numba', 'Numpy'])\n",
    "ax.set_ylabel('Time (ns)')\n",
    "plt.show()\n"
   ]
  },
  {
   "cell_type": "code",
   "execution_count": null,
   "id": "short-scholarship",
   "metadata": {},
   "outputs": [],
   "source": []
  }
 ],
 "metadata": {
  "kernelspec": {
   "display_name": "Python 3",
   "language": "python",
   "name": "python3"
  },
  "language_info": {
   "codemirror_mode": {
    "name": "ipython",
    "version": 3
   },
   "file_extension": ".py",
   "mimetype": "text/x-python",
   "name": "python",
   "nbconvert_exporter": "python",
   "pygments_lexer": "ipython3",
   "version": "3.8.5"
  }
 },
 "nbformat": 4,
 "nbformat_minor": 5
}
